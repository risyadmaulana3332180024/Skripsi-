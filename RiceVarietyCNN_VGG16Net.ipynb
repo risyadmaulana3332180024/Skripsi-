{
  "cells": [
    {
      "cell_type": "markdown",
      "metadata": {
        "id": "view-in-github",
        "colab_type": "text"
      },
      "source": [
        "<a href=\"https://colab.research.google.com/github/risyadmaulana3332180024/Skripsi-/blob/main/RiceVarietyCNN_VGG16Net.ipynb\" target=\"_parent\"><img src=\"https://colab.research.google.com/assets/colab-badge.svg\" alt=\"Open In Colab\"/></a>"
      ]
    },
    {
      "cell_type": "markdown",
      "source": [
        "# **Pengenalan**\n",
        "\n",
        "Beras merupakan suatu komoditas yang strategis karena menjadi bahan pangan pokok bangsa Indonesia. Konsumsi beras setiap tahun selalu meningkat seiring dengan laju penambahan jumlah penduduk.\n",
        "\n",
        "Pentingnya identifikasi jenis beras sangat perlu dilakukan untuk mengetahui kandungan gizi serta nutrisi yang terkandung dalam bahan pokok makanan ini sesuai dengan kebutuhan yang dibutuhkan.\n",
        "\n",
        "\n",
        "Penelitian ini memiliki tujuan untuk melakukan proses analisa identifikasi jenis beras dengan bantuan pengolahan citra digital menggunakan metode convolutional neural network. Menggunakan Google Collabs, data citra gambar beras akan dianalisa dan dilatih untuk melakukan proses identifikasi jenis beras.\n"
      ],
      "metadata": {
        "id": "WOM0cE3_oFS3"
      },
      "id": "WOM0cE3_oFS3"
    },
    {
      "cell_type": "markdown",
      "metadata": {
        "id": "8385ca21-f8b8-4366-8364-30ccdc1b7a90"
      },
      "source": [
        "# **Memasukan Library Yang Dibutuhkan**\n",
        "\n",
        "Untuk Model : TensorFlow dan Keras"
      ],
      "id": "8385ca21-f8b8-4366-8364-30ccdc1b7a90"
    },
    {
      "cell_type": "code",
      "execution_count": null,
      "metadata": {
        "id": "8689ad3e-9663-40bd-8a7c-813b4b9b2c8e"
      },
      "outputs": [],
      "source": [
        "from keras.models import Sequential\n",
        "from keras.layers.convolutional import Conv2D\n",
        "from keras.layers.convolutional import MaxPooling2D\n",
        "from keras.layers.core import Activation\n",
        "import tensorflow as tf\n",
        "from tensorflow import keras\n",
        "from keras.layers.core import Flatten\n",
        "from keras.layers.core import Dense\n",
        "from keras.layers.core import Dropout\n",
        "from tensorflow.keras.layers import BatchNormalization\n",
        "from tensorflow.keras.optimizers import Adam\n",
        "from keras.models import Model\n",
        "import cv2\n",
        "\n",
        "#display model to PNG / FLOW of the model architecture\n",
        "from IPython.display import SVG\n",
        "from keras.utils.vis_utils import model_to_dot\n",
        "from google.colab.patches import cv2_imshow"
      ],
      "id": "8689ad3e-9663-40bd-8a7c-813b4b9b2c8e"
    },
    {
      "cell_type": "markdown",
      "metadata": {
        "id": "5W2T5PQhkJSo"
      },
      "source": [
        "# **Memasukan *Library* Untuk *Transfer Learning***\n",
        "\n",
        "Menggunakan *Learning* Dari *VGG16Net*\n"
      ],
      "id": "5W2T5PQhkJSo"
    },
    {
      "cell_type": "code",
      "execution_count": null,
      "metadata": {
        "id": "tYvqN6TwkIxy"
      },
      "outputs": [],
      "source": [
        "from keras.applications.vgg16 import VGG16\n",
        "from keras.applications.vgg19 import VGG19\n",
        "from keras.applications.resnet import ResNet50\n",
        "from keras.applications.inception_v3 import InceptionV3 \n",
        "from keras.applications.inception_resnet_v2 import InceptionResNetV2 \n",
        "from keras.applications.densenet import DenseNet121"
      ],
      "id": "tYvqN6TwkIxy"
    },
    {
      "cell_type": "markdown",
      "metadata": {
        "id": "e1a0928d-dbf1-40f8-afed-5eaea6af51fa"
      },
      "source": [
        "# **Memasukan library Untuk Labelisasi**\n",
        "\n",
        "Menggunakan : Numpy, Sklearn, PIL, Os, Imutils, Argparse dan Matplotlib"
      ],
      "id": "e1a0928d-dbf1-40f8-afed-5eaea6af51fa"
    },
    {
      "cell_type": "code",
      "execution_count": null,
      "metadata": {
        "id": "8812369b-b02b-4ed0-b1f5-94efbe001b7e"
      },
      "outputs": [],
      "source": [
        "from sklearn.preprocessing import LabelBinarizer # untuk binarisasi label \n",
        "from sklearn.model_selection import train_test_split # untuk membagi data train dan data test \n",
        "from sklearn.metrics import classification_report # performance measurement , untuk menghasilkan confusion matrix\n",
        "\n",
        "# untuk load data \n",
        "from PIL import Image \n",
        "from imutils import paths\n",
        "import numpy as np\n",
        "import argparse\n",
        "import os\n",
        "import matplotlib.pyplot as plt #untuk menampilkan contoh data dalam gambar"
      ],
      "id": "8812369b-b02b-4ed0-b1f5-94efbe001b7e"
    },
    {
      "cell_type": "markdown",
      "source": [
        "# **Menghubungkan Ke Penyimpanan Drive**\n",
        "\n",
        "Menggunakan *Google Drive* Sebagai Jalan Masuknya Data dan Penyimpanan Hasil"
      ],
      "metadata": {
        "id": "yiKoYSpMsiO2"
      },
      "id": "yiKoYSpMsiO2"
    },
    {
      "cell_type": "code",
      "execution_count": null,
      "metadata": {
        "id": "1Gt9WdXnf7Va"
      },
      "outputs": [],
      "source": [
        "from google.colab import drive\n",
        "drive.mount('/content/drive')"
      ],
      "id": "1Gt9WdXnf7Va"
    },
    {
      "cell_type": "markdown",
      "metadata": {
        "id": "8256075e-2784-40b2-a9a4-f5f306f1dcb6"
      },
      "source": [
        "# **Labelisasi Berdasarkan Folder**\n",
        "\n",
        "Melakukan Pembagian Labelisasi Dari Data Yang Masuk Berupa :\n",
        "\n",
        "- Memasukan Data Dari Penyimpanan Yang Digunakan\n",
        "- Merubah Ukuran Citra \n",
        "- Membagi Data Training dan Validasi\n",
        "\n",
        "\n",
        "\n",
        "\n"
      ],
      "id": "8256075e-2784-40b2-a9a4-f5f306f1dcb6"
    },
    {
      "cell_type": "code",
      "execution_count": null,
      "metadata": {
        "id": "e584e812-dcc7-4a9f-9360-4713c69e7861"
      },
      "outputs": [],
      "source": [
        "print(\"Menampilkan Gambar\")\n",
        "#imagePaths = paths.list_images(\"/content/drive/MyDrive/RiceDataset\")\n",
        "imagePaths = paths.list_images(\"/content/drive/MyDrive/RiceDataset\")\n",
        "data = []\n",
        "labels = []\n",
        "\n",
        "# loop over our input images\n",
        "for imagePath in imagePaths:\n",
        "\t#Resize citra menjadi ukuran 224*224\n",
        "    #Bentuk citra ini dapat diubah ubah\n",
        "\timage = Image.open(imagePath)\n",
        "\timage = np.array(image.resize((224, 224))) / 255.0\n",
        "\tdata.append(image)\n",
        "\t# extract the class label from the file path and update the\n",
        "\t# labels list\n",
        "\tlabel = imagePath.split(os.path.sep)[-2]\n",
        "\t# label = imagePath.title\n",
        "\tlabels.append(label)\n",
        "\t# print(label)\n",
        "print(label)\n",
        "\n",
        "\n",
        "lb = LabelBinarizer()\n",
        "labels = lb.fit_transform(labels)\n",
        "#split dataset dan data train alokasi normal adalah 25%\n",
        "(trainX, testX, trainY, testY) = train_test_split(np.array(data),\n",
        "\tnp.array(labels), test_size=0.25) #komposisi data training 75%, validationnya 25%\n",
        "tes_data = testX[90]\n",
        "plt.imshow(tes_data)\n",
        "print(trainY)"
      ],
      "id": "e584e812-dcc7-4a9f-9360-4713c69e7861"
    },
    {
      "cell_type": "markdown",
      "metadata": {
        "id": "ac70bdd9-1e93-429c-bce5-ddc58c9fd371"
      },
      "source": [
        "# **Transfer Learning Menggunakan VGG16Net**\n",
        "\n",
        "Memanfaatkan model yang sudah dilatih terhadap suatu dataset.\n",
        "\n",
        "- Model : VGG16Net\n",
        "- Weight : ImageNet\n",
        "- Optimazer : Adam"
      ],
      "id": "ac70bdd9-1e93-429c-bce5-ddc58c9fd371"
    },
    {
      "cell_type": "code",
      "execution_count": null,
      "metadata": {
        "id": "9a3bf94f-f7bc-4400-8c0f-771192df88c7"
      },
      "outputs": [],
      "source": [
        "#RUN FOR VGG-16\n",
        "IMAGE_SIZE = [224,224] #size of images\n",
        "vgg16 = VGG16(input_shape=IMAGE_SIZE + [3], weights='imagenet', include_top=False) #initiation of import VGG16\n",
        "\n",
        "#ADDING FOR CUSTOM LAYERS\n",
        "for layer in vgg16.layers:\n",
        "    layer.trainable = False\n",
        "\n",
        "x = Flatten()(vgg16.output)\n",
        "x = tf.keras.layers.Dense(1024, activation='relu')(x)\n",
        "\n",
        "\n",
        "prediction = Dense(5, activation='softmax')(x) #initiation for number of maximal output dense\n",
        "model = Model(inputs=vgg16.input, outputs=prediction)\n",
        "\n",
        "\n",
        "model.compile(loss='categorical_crossentropy', #categorical_crosentropy is for multilabel (over than 2 classes)\n",
        "                    optimizer=tf.optimizers.Adam(0.0001), #learning rate (estimation/itterate)\n",
        "                    metrics=['accuracy'])\n",
        "\n",
        "import IPython\n",
        "\n",
        "SVG(model_to_dot(model).create(prog='dot', format='svg'))\n",
        "\n",
        "keras.utils.plot_model(model, to_file='test_CNN_Keras.png', show_shapes=True)\n",
        "#IPython.display.Image('test_keras_plot_model.png')"
      ],
      "id": "9a3bf94f-f7bc-4400-8c0f-771192df88c7"
    },
    {
      "cell_type": "markdown",
      "source": [
        "# **Menampilkan Hasil Model**\n",
        "\n"
      ],
      "metadata": {
        "id": "YKSY-D13v_8B"
      },
      "id": "YKSY-D13v_8B"
    },
    {
      "cell_type": "code",
      "execution_count": null,
      "metadata": {
        "id": "2a86ead3-e70a-48aa-8a86-3923a6143163"
      },
      "outputs": [],
      "source": [
        "model.summary() "
      ],
      "id": "2a86ead3-e70a-48aa-8a86-3923a6143163"
    },
    {
      "cell_type": "markdown",
      "metadata": {
        "id": "19654e43-82fd-4d71-a8dc-dd7b5ac4bf24"
      },
      "source": [
        "# **Tunning HyperParameter**\n",
        "\n",
        "Melakukan Pengujian Model Dalam Mendapatkan Performa Terbaik"
      ],
      "id": "19654e43-82fd-4d71-a8dc-dd7b5ac4bf24"
    },
    {
      "cell_type": "code",
      "execution_count": null,
      "metadata": {
        "id": "3ad154a7-a9cc-498e-bb41-35cffc5c5c3e"
      },
      "outputs": [],
      "source": [
        "# Training Model\n",
        "print(\"[INFO] training network...\")\n",
        "opt = Adam(learning_rate=0.0001)\n",
        "model.compile(loss=\"categorical_crossentropy\", optimizer=opt,metrics=[\"accuracy\"])\n",
        "H = model.fit(trainX, trainY, validation_data=(testX, testY),epochs=50, batch_size=32)\n",
        "\n",
        "# Evaluasi Model Architecture\n",
        "print(\"[INFO] evaluating network...\")\n",
        "\n",
        "predictions = model.predict(testX, batch_size=2)\n",
        "print(classification_report(testY.argmax(axis=1),\n",
        "\tpredictions.argmax(axis=1), target_names=lb.classes_))\n",
        "\n",
        "#model.save(\"RiceClassificationVgg16.hdf5\")\n",
        "model.save(\"RiceClassificationVgg16.hdf5\")"
      ],
      "id": "3ad154a7-a9cc-498e-bb41-35cffc5c5c3e"
    },
    {
      "cell_type": "markdown",
      "metadata": {
        "id": "735d51c1-2eb1-4931-8b56-b962b50f99ea"
      },
      "source": [
        "# **Menampilkan History Loss & Accuracy**\n",
        "\n",
        "Menampilkan Hasil Kesalahan dan Akurasi Dari Model Yang Diuji"
      ],
      "id": "735d51c1-2eb1-4931-8b56-b962b50f99ea"
    },
    {
      "cell_type": "code",
      "source": [
        "H.history['loss']\n",
        "print (\"Menampilkan Akurasi\")\n",
        "H.history['accuracy']\n"
      ],
      "metadata": {
        "id": "BNanDNnAdUh3"
      },
      "id": "BNanDNnAdUh3",
      "execution_count": null,
      "outputs": []
    },
    {
      "cell_type": "markdown",
      "metadata": {
        "id": "ec1c392d-efa9-4605-8d66-eb1030c11e8f"
      },
      "source": [
        "# **Plot Grafik Loss dan Accuracy**\n",
        "\n",
        "Menampilkan Grafik Dari Kesalahan Dari Model Yang Diuji Berdasarkan Banyaknya Iterasi Yang Diberikan"
      ],
      "id": "ec1c392d-efa9-4605-8d66-eb1030c11e8f"
    },
    {
      "cell_type": "code",
      "execution_count": null,
      "metadata": {
        "id": "d50f48ab-f55a-4715-92af-f582323f1214"
      },
      "outputs": [],
      "source": [
        "# Plot history: Plot Loss\n",
        "import matplotlib.pyplot as plt\n",
        "plt.plot(H.history['loss'], label='Training Loss')\n",
        "plt.plot(H.history['val_loss'], label='Validation Loss')\n",
        "plt.title('Training and Validation Loss')\n",
        "plt.ylabel('value')\n",
        "plt.xlabel('No. epoch')\n",
        "plt.legend(loc=\"upper left\")\n",
        "plt.show()"
      ],
      "id": "d50f48ab-f55a-4715-92af-f582323f1214"
    },
    {
      "cell_type": "markdown",
      "source": [
        "Menampilkan Grafik Dari Akurasi Dari Model Yang Diuji Berdasarkan Banyaknya Iterasi Yang Diberikan"
      ],
      "metadata": {
        "id": "xW7rmCWM_Bwk"
      },
      "id": "xW7rmCWM_Bwk"
    },
    {
      "cell_type": "code",
      "execution_count": null,
      "metadata": {
        "id": "0ad9e45d-3a32-4626-b967-253422bc3a24"
      },
      "outputs": [],
      "source": [
        "# Plot history: Plot Acc\n",
        "plt.plot(H.history['accuracy'], label='Training Accuracy')\n",
        "plt.plot(H.history['val_accuracy'], label='Validation Accuracy')\n",
        "plt.title('Training and Validation Accuracy')\n",
        "plt.ylabel('value')\n",
        "plt.xlabel('No. epoch')\n",
        "plt.legend(loc=\"upper left\")\n",
        "plt.show()"
      ],
      "id": "0ad9e45d-3a32-4626-b967-253422bc3a24"
    },
    {
      "cell_type": "markdown",
      "metadata": {
        "id": "4f633859-492c-46b5-aaaa-e4892540c440"
      },
      "source": [
        "# **Persiapan Evaluasi Terhadap Model Yang Sudah Dilatih**\n",
        "\n"
      ],
      "id": "4f633859-492c-46b5-aaaa-e4892540c440"
    },
    {
      "cell_type": "code",
      "execution_count": null,
      "metadata": {
        "id": "304496d9-f4e7-4fd5-a74a-9fc277460a19"
      },
      "outputs": [],
      "source": [
        "import requests\n",
        "from io import BytesIO\n",
        "\n",
        "from PIL import Image\n",
        "import numpy as np\n",
        "from matplotlib import pyplot as plt"
      ],
      "id": "304496d9-f4e7-4fd5-a74a-9fc277460a19"
    },
    {
      "cell_type": "markdown",
      "metadata": {
        "id": "736c0c07-263b-465b-9308-396013bab9c5"
      },
      "source": [
        "Deklarasi Label Yang Akan Digunakan"
      ],
      "id": "736c0c07-263b-465b-9308-396013bab9c5"
    },
    {
      "cell_type": "code",
      "execution_count": null,
      "metadata": {
        "id": "6f8755c0-e4aa-4264-94bb-f39acfcceb12"
      },
      "outputs": [],
      "source": [
        "# Parameters\n",
        "input_size = (224,224)\n",
        "\n",
        "#define input shape\n",
        "channel = (3,)\n",
        "input_shape = input_size + channel\n",
        "\n",
        "#define labels\n",
        "labels = ['Arborio', 'Basmati', 'Ipsala', 'Jasmine', 'karacadag']"
      ],
      "id": "6f8755c0-e4aa-4264-94bb-f39acfcceb12"
    },
    {
      "cell_type": "code",
      "execution_count": null,
      "metadata": {
        "id": "f6709dbf-0ab8-4b51-9e54-ebefd48e0b53"
      },
      "outputs": [],
      "source": [
        "def preprocess(img,input_size):\n",
        "    nimg = img.convert('RGB').resize(input_size, resample= 0)\n",
        "    img_arr = (np.array(nimg))/255\n",
        "    return img_arr\n",
        "\n",
        "def reshape(imgs_arr):\n",
        "    return np.stack(imgs_arr, axis=0)"
      ],
      "id": "f6709dbf-0ab8-4b51-9e54-ebefd48e0b53"
    },
    {
      "cell_type": "markdown",
      "metadata": {
        "id": "79725d82-0766-4fe7-b09f-cc669ea2d499"
      },
      "source": [
        "Memasukan Model Path Prediksi Yang Telah di Training"
      ],
      "id": "79725d82-0766-4fe7-b09f-cc669ea2d499"
    },
    {
      "cell_type": "code",
      "execution_count": null,
      "metadata": {
        "id": "5f440fb7-d352-4e41-8506-8f54ca553377"
      },
      "outputs": [],
      "source": [
        "from tensorflow.keras.models import load_model"
      ],
      "id": "5f440fb7-d352-4e41-8506-8f54ca553377"
    },
    {
      "cell_type": "code",
      "execution_count": null,
      "metadata": {
        "id": "c3005b67-aea6-402d-a4c3-6ecd29a1da63"
      },
      "outputs": [],
      "source": [
        "MODEL_PATH ='RiceClassificationVgg16.hdf5'\n",
        "model = load_model(MODEL_PATH,compile=False)\n"
      ],
      "id": "c3005b67-aea6-402d-a4c3-6ecd29a1da63"
    },
    {
      "cell_type": "markdown",
      "metadata": {
        "id": "cf4bf6c0-d24e-44d6-aac3-bb86c7f63649"
      },
      "source": [
        "# **Melakukan Prediksi Menggunakan Data Test Dari Model Yang Sudah Dibuat**"
      ],
      "id": "cf4bf6c0-d24e-44d6-aac3-bb86c7f63649"
    },
    {
      "cell_type": "code",
      "execution_count": null,
      "metadata": {
        "id": "d7857ed1-7f28-4103-bb29-3b1982b46594"
      },
      "outputs": [],
      "source": [
        "testPaths = paths.list_images(\"/content/drive/MyDrive/RiceDatatest/FullTest\")\n",
        "labels = ['Arborio', 'Basmati', 'Ipsala', 'Jasmine', 'Karacadag']\n",
        "lb = LabelBinarizer()\n",
        "labels = lb.fit_transform(labels)\n",
        "\n",
        "for imagePath in testPaths:\n",
        "    image = Image.open(imagePath)\n",
        "    plt.imshow(image)\n",
        "    plt.show()\n",
        "    image = np.array(image.resize((224, 224))) / 255.0\n",
        "    image2 = np.expand_dims(image, axis=0)\n",
        "    pred = model.predict(image2)\n",
        "    print(pred)\n",
        "    y_classes = pred.argmax(axis=-1)\n",
        "    print(y_classes)\n",
        "    print('Image '+ imagePath + ' Classify as: '+ str(lb.classes_[y_classes][0]))"
      ],
      "id": "d7857ed1-7f28-4103-bb29-3b1982b46594"
    },
    {
      "cell_type": "markdown",
      "source": [
        "**Evaluasi Dengan Coffusion Matrix**"
      ],
      "metadata": {
        "id": "WgeLfw6ILJoo"
      },
      "id": "WgeLfw6ILJoo"
    },
    {
      "cell_type": "code",
      "source": [
        "from matplotlib import pyplot as plt\n",
        "from sklearn.metrics import confusion_matrix , classification_report\n",
        "import numpy as np\n",
        "import pandas as pd\n",
        "import seaborn as sns\n"
      ],
      "metadata": {
        "id": "gDVKgj2XLjeM"
      },
      "id": "gDVKgj2XLjeM",
      "execution_count": null,
      "outputs": []
    },
    {
      "cell_type": "code",
      "source": [
        "def print_confusion_matrix(confusion_matrix, class_names, figsize = (10,7), fontsize=14):\n",
        "    df_cm = pd.DataFrame(\n",
        "        confusion_matrix, index=class_names, columns=class_names, \n",
        "    )\n",
        "    fig = plt.figure(figsize=figsize)\n",
        "    try:\n",
        "        heatmap = sns.heatmap(df_cm, annot=True, fmt=\"d\")\n",
        "    except ValueError:\n",
        "        raise ValueError(\"Confusion matrix values must be integers.\")\n",
        "    heatmap.yaxis.set_ticklabels(heatmap.yaxis.get_ticklabels(), rotation=0, ha='right', fontsize=fontsize)\n",
        "    heatmap.xaxis.set_ticklabels(heatmap.xaxis.get_ticklabels(), rotation=45, ha='right', fontsize=fontsize)\n",
        "    plt.ylabel('Truth')\n",
        "    plt.xlabel('Prediction')"
      ],
      "metadata": {
        "id": "eXKq553PLgBI"
      },
      "id": "eXKq553PLgBI",
      "execution_count": null,
      "outputs": []
    },
    {
      "cell_type": "code",
      "source": [
        "truth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n",
        "prediction = [\"J\",\"B\",\"I\",\"J\",\"K\",\"K\",\"B\",\"I\",\"B\",\"K\",\"A\",\"B\",\"I\",\"I\",\"K\",\"A\",\"B\",\"I\",\"I\",\"K\",\"A\",\"B\",\"I\",\"B\",\"K\",\"A\",\"B\",\"I\",\"J\",\"K\",\"A\",\"B\",\"I\",\"J\",\"K\",\"A\",\"B\",\"I\",\"J\",\"K\",\"A\",\"B\",\"I\",\"J\",\"K\",\"A\",\"B\",\"I\",\"J\",\"K\",\"A\",\"B\",\"I\",\"J\",\"K\",\"A\",\"B\",\"I\",\"J\",\"K\",\"A\",\"B\",\"I\",\"J\",\"K\",\"A\",\"B\",\"I\",\"J\",\"K\",\"A\",\"B\",\"I\",\"J\",\"K\",\"A\",\"B\",\"I\",\"J\",\"K\",\"A\",\"B\",\"I\",\"J\",\"K\",\"A\",\"B\",\"I\",\"J\",\"K\",\"A\",\"B\",\"I\",\"J\",\"K\",\"A\",\"B\",\"I\",\"J\",\"K\",\"A\",\"B\",\"I\",\"J\",\"K\",\"A\",\"B\",\"I\",\"J\",\"K\",\"A\",\"B\",\"I\",\"J\",\"K\",\"A\",\"B\",\"I\",\"J\",\"K\",\"A\",\"B\",\"I\",\"J\",\"K\",\"A\",\"B\",\"I\",\"J\",\"K\",\"A\",\"B\",\"I\",\"J\",\"K\",\"A\",\"B\",\"I\",\"J\",\"K\",\"A\",\"B\",\"I\",\"J\",\"K\",\"A\",\"B\",\"I\",\"J\",\"K\",\"A\",\"B\",\"I\",\"J\",\"K\",\"A\",\"B\",\"I\",\"J\",\"K\",\"A\",\"B\",\"I\",\"J\",\"K\",\"A\",\"B\",\"I\",\"J\",\"K\",\"A\",\"B\",\"I\",\"J\",\"K\",\"A\",\"B\",\"I\",\"J\",\"K\",\"A\",\"B\",\"I\",\"J\",\"K\",\"A\",\"B\",\"I\",\"J\",\"K\",\"A\",\"B\",\"I\",\"J\",\"K\",\"A\",\"B\",\"I\",\"J\",\"K\",\"A\",\"B\",\"I\",\"J\",\"K\",\"A\",\"B\",\"I\",\"J\",\"K\",\"A\",\"B\",\"I\",\"J\",\"K\",\"A\",\"B\",\"I\",\"J\",\"K\",\"A\",\"B\",\"I\",\"J\",\"K\",\"A\",\"B\",\"I\",\"J\",\"K\",\"A\",\"B\",\"I\",\"J\",\"K\",\"A\",\"B\",\"I\",\"J\",\"K\",\"A\",\"B\",\"I\",\"J\",\"K\",\"A\",\"B\",\"I\",\"J\",\"K\",\"A\",\"B\",\"I\",\"J\",\"K\",\"A\",\"B\",\"I\",\"J\",\"K\",\"A\",\"B\",\"I\",\"J\",\"K\",\"A\",\"B\",\"I\",\"J\",\"K\",\"A\",\"B\",\"I\",\"J\",\"K\",\"A\",\"B\",\"I\",\"J\",\"K\",\"A\",\"B\",\"I\",\"J\",\"K\",\"A\",\"B\",\"I\",\"J\",\"K\",\"A\",\"B\",\"I\",\"J\",\"K\",\"A\",\"B\",\"I\",\"J\",\"K\",\"A\",\"B\",\"I\",\"J\",\"K\",\"A\",\"B\",\"I\",\"J\",\"K\",\"A\",\"B\",\"I\",\"J\",\"K\",\"A\",\"B\",\"I\",\"J\",\"K\",\"A\",\"B\",\"I\",\"J\",\"K\",\"A\",\"B\",\"I\",\"J\",\"K\",\"A\",\"B\",\"I\",\"J\",\"K\",\"A\",\"B\",\"I\",\"J\",\"K\",\"A\",\"B\",\"I\",\"J\",\"K\",\"A\",\"B\",\"I\",\"J\",\"K\",\"A\",\"B\",\"I\",\"J\",\"K\",\"A\",\"B\",\"I\",\"J\",\"K\",\"A\",\"B\",\"I\",\"J\",\"K\",\"A\",\"B\",\"I\",\"J\",\"K\",\"A\",\"B\",\"I\",\"J\",\"K\",\"A\",\"B\",\"I\",\"J\",\"K\",\"A\",\"B\",\"I\",\"J\",\"K\",\"A\",\"B\",\"I\",\"J\",\"K\",\"A\",\"B\",\"I\",\"J\",\"K\",\"A\",\"B\",\"I\",\"J\",\"K\",\"A\",\"B\",\"I\",\"J\",\"K\",\"A\",\"B\",\"I\",\"J\",\"K\",\"A\",\"B\",\"I\",\"J\",\"K\",\"A\",\"B\",\"I\",\"J\",\"K\",\"A\",\"B\",\"I\",\"J\",\"K\",\"A\",\"B\",\"I\",\"J\",\"K\",\"A\",\"B\",\"I\",\"J\",\"K\",\"A\",\"B\",\"I\",\"J\",\"K\",\"A\",\"B\",\"I\",\"J\",\"K\",\"A\",\"B\",\"I\",\"J\",\"K\",\"A\",\"B\",\"I\",\"J\",\"K\",\"A\",\"B\",\"I\",\"J\",\"K\",\"A\",\"B\",\"I\",\"J\",\"K\",\"A\",\"B\",\"I\",\"J\",\"K\",\"A\",\"B\",\"I\",\"J\",\"K\",\"A\",\"B\",\"I\",\"J\",\"K\",\"A\",\"B\",\"I\",\"J\",\"K\",\"A\",\"B\",\"I\",\"J\",\"K\",\"A\",\"B\",\"I\",\"J\",\"K\",\"A\",\"B\",\"I\",\"J\",\"K\"]"
      ],
      "metadata": {
        "id": "kjM9YlmMRb2i"
      },
      "id": "kjM9YlmMRb2i",
      "execution_count": null,
      "outputs": []
    },
    {
      "cell_type": "code",
      "source": [
        "cm = confusion_matrix(truth,prediction)\n",
        "print_confusion_matrix(cm,[\"Arborio\",\"Basmati\",\"Ipsala\",\"Jasmine\",\"Karacadag\"])\n"
      ],
      "metadata": {
        "id": "o2KEBajIzP63"
      },
      "id": "o2KEBajIzP63",
      "execution_count": null,
      "outputs": []
    },
    {
      "cell_type": "code",
      "source": [
        "print(classification_report(truth, prediction))"
      ],
      "metadata": {
        "id": "gTdlhlWrzjjk"
      },
      "id": "gTdlhlWrzjjk",
      "execution_count": null,
      "outputs": []
    },
    {
      "cell_type": "code",
      "source": [],
      "metadata": {
        "id": "HqfQM16xIk3A"
      },
      "id": "HqfQM16xIk3A",
      "execution_count": null,
      "outputs": []
    }
  ],
  "metadata": {
    "colab": {
      "provenance": [],
      "private_outputs": true,
      "toc_visible": true,
      "include_colab_link": true
    },
    "gpuClass": "standard",
    "kernelspec": {
      "display_name": "Python 3 (ipykernel)",
      "language": "python",
      "name": "python3"
    },
    "language_info": {
      "codemirror_mode": {
        "name": "ipython",
        "version": 3
      },
      "file_extension": ".py",
      "mimetype": "text/x-python",
      "name": "python",
      "nbconvert_exporter": "python",
      "pygments_lexer": "ipython3",
      "version": "3.7.3"
    },
    "accelerator": "GPU"
  },
  "nbformat": 4,
  "nbformat_minor": 5
}